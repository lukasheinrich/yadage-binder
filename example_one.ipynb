{
 "cells": [
  {
   "cell_type": "code",
   "execution_count": 12,
   "metadata": {
    "collapsed": true
   },
   "outputs": [],
   "source": [
    "from yadage.steering_api import run_workflow"
   ]
  },
  {
   "cell_type": "code",
   "execution_count": 13,
   "metadata": {
    "collapsed": false
   },
   "outputs": [],
   "source": [
    "import yaml\n",
    "with open('ctx.yml','w') as ctx:\n",
    "    ctx.write(yaml.safe_dump({\n",
    "                'events':'100'\n",
    "            }))\n"
   ]
  },
  {
   "cell_type": "code",
   "execution_count": 23,
   "metadata": {
    "collapsed": false
   },
   "outputs": [
    {
     "name": "stdout",
     "output_type": "stream",
     "text": [
      "total 0\n"
     ]
    },
    {
     "name": "stderr",
     "output_type": "stream",
     "text": [
      "rm: cannot remove '/workdir/': Device or resource busy\n"
     ]
    }
   ],
   "source": [
    "%%bash\n",
    "#empty out the workdir form potential previous runs...\n",
    "rm -rf /workdir/\n",
    "ls -lrt /workdir"
   ]
  },
  {
   "cell_type": "code",
   "execution_count": 24,
   "metadata": {
    "collapsed": false
   },
   "outputs": [],
   "source": [
    "run_workflow('/workdir','/workdir','pheno_workflows/madgraph_delphes.yml','ctx.yml','from-github')"
   ]
  },
  {
   "cell_type": "code",
   "execution_count": 25,
   "metadata": {
    "collapsed": false
   },
   "outputs": [],
   "source": [
    "%%bash\n",
    "cp /workdir/workflow.gif workflow.gif\n",
    "#copying because apparently ipython in docker and bound volumes don't play nice together?"
   ]
  },
  {
   "cell_type": "markdown",
   "metadata": {},
   "source": [
    "![](workflow.gif)"
   ]
  },
  {
   "cell_type": "code",
   "execution_count": 26,
   "metadata": {
    "collapsed": false
   },
   "outputs": [
    {
     "name": "stdout",
     "output_type": "stream",
     "text": [
      "\r\n",
      "HepMC::Version 2.06.09\r\n",
      "HepMC::IO_GenEvent-START_EVENT_LISTING\r\n",
      "E 0 -1 8.9088610000000003e+01 1.3048209999999999e-01 7.5467709999999999e-03 9999 0 1042 1 2 0 1 1.0000000000000000e+00\r\n",
      "N 1 \"0\" \r\n",
      "U GEV MM\r\n",
      "C 9.5916015000000016e+02 9.5916015000000016e+02\r\n",
      "F 1 -1 4.7955190411428572e-03 8.4440858085714290e-03 8.9088610000000003e+01 0 0 0 0\r\n",
      "V -1 0 0 0 0 0 0 2 0\r\n",
      "P 3 1 0 0 3.3568633288000001e+01 3.3568633288000001e+01 0 21 0 0 -3 1 1 501\r\n",
      "P 52 -1 2.5144891965719296e+00 5.3424895583904619e-01 1.3243006183183996e+02 1.3245541987646806e+02 3.3000000000000002e-01 43 0 0 -82 1 2 522\r\n",
      "V -2 0 0 0 0 0 0 1 0\r\n",
      "P 4 -1 0 0 -5.9108600660000000e+01 5.9108600660000000e+01 0 21 0 0 -3 1 2 501\r\n",
      "V -3 0 0 0 0 0 0 1 0\r\n",
      "P 5 23 0 0 -2.5539967372000000e+01 9.2677233947999994e+01 8.9088606224000003e+01 22 0 0 -40 0\r\n",
      "V -4 0 0 0 0 0 0 1 0\r\n",
      "P 6 21 0 0 3.0141286951604961e+01 3.0141286951604958e+01 0 31 0 0 -6 2 1 502 2 503\r\n",
      "V -5 0 0 0 0 0 0 2 0\r\n",
      "P 7 21 0 0 -2.3107273043912420e+00 2.3107273043912429e+00 0 31 0 0 -6 2 1 504 2 502\r\n",
      "P 18 21 1.7690094016833904e-01 -3.4319399732600577e+00 1.5052617911201875e+00 3.7517088083297470e+00 0 43 0 0 -128 2 1 508 2 504\r\n"
     ]
    }
   ],
   "source": [
    "!head -n20 /workdir/output.hepmc"
   ]
  },
  {
   "cell_type": "code",
   "execution_count": 27,
   "metadata": {
    "collapsed": false
   },
   "outputs": [
    {
     "name": "stdout",
     "output_type": "stream",
     "text": [
      "Requirement already satisfied (use --upgrade to upgrade): wand in /usr/lib64/python2.7/site-packages\r\n"
     ]
    }
   ],
   "source": [
    "!pip install wand"
   ]
  },
  {
   "cell_type": "code",
   "execution_count": 31,
   "metadata": {
    "collapsed": false
   },
   "outputs": [
    {
     "data": {
      "image/png": "[encoded data removed]",
      "text/plain": [
       "<wand.image.Image: 4118506 'PDF' (172x332)>"
      ]
     },
     "execution_count": 31,
     "metadata": {},
     "output_type": "execute_result"
    }
   ],
   "source": [
    "from wand.image import Image as WImage\n",
    "WImage(filename='/workdir/adage_stages.pdf', resolution=72)"
   ]
  },
  {
   "cell_type": "code",
   "execution_count": 32,
   "metadata": {
    "collapsed": false
   },
   "outputs": [
    {
     "data": {
      "image/png": "[encoded data removed]",
      "text/plain": [
       "<wand.image.Image: 7176647 'PDF' (590x620)>"
      ]
     },
     "execution_count": 32,
     "metadata": {},
     "output_type": "execute_result"
    }
   ],
   "source": [
    "from wand.image import Image as WImage\n",
    "WImage(filename='/workdir/adage_workflow_instance.pdf', resolution=72)"
   ]
  },
  {
   "cell_type": "code",
   "execution_count": null,
   "metadata": {
    "collapsed": true
   },
   "outputs": [],
   "source": []
  }
 ],
 "metadata": {
  "kernelspec": {
   "display_name": "Python 2",
   "language": "python",
   "name": "python2"
  },
  "language_info": {
   "codemirror_mode": {
    "name": "ipython",
    "version": 2
   },
   "file_extension": ".py",
   "mimetype": "text/x-python",
   "name": "python",
   "nbconvert_exporter": "python",
   "pygments_lexer": "ipython2",
   "version": "2.7.5"
  }
 },
 "nbformat": 4,
 "nbformat_minor": 0
}
